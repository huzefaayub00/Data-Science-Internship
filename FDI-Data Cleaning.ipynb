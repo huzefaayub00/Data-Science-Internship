{
 "cells": [
  {
   "cell_type": "code",
   "execution_count": 2,
   "id": "145e7804",
   "metadata": {},
   "outputs": [],
   "source": [
    "import pandas as pd\n",
    "import matplotlib.pyplot as plt\n",
    "import seaborn as sns\n",
    "\n",
    "# Step 1: Data Collection\n",
    "data = pd.read_csv('FDI data.csv')\n",
    "\n",
    "data['Total']= data.iloc[:, 1:18].sum(axis=1)\n",
    "data.loc['63']= data.sum()\n",
    "data.loc[data.index[-1], 'Sector'] = ''\n",
    "\n",
    "row_list = data.iloc[63].tolist()\n",
    "row_list.remove('')\n",
    "yoy_growth = [None]\n",
    "for i in range(1, len(row_list)):\n",
    "    current_value = row_list[i]\n",
    "    previous_value = row_list[i - 1]\n",
    "    growth_rate = ((current_value - previous_value) / previous_value) * 100\n",
    "    yoy_growth.append(growth_rate)\n",
    "    \n",
    "yoy_growth.append(\" \")\n",
    "data.loc[len(data)] = yoy_growth\n",
    "\n",
    "data.to_csv('Try1.csv')"
   ]
  },
  {
   "cell_type": "code",
   "execution_count": null,
   "id": "a38a4ceb",
   "metadata": {},
   "outputs": [],
   "source": []
  }
 ],
 "metadata": {
  "kernelspec": {
   "display_name": "Python 3 (ipykernel)",
   "language": "python",
   "name": "python3"
  },
  "language_info": {
   "codemirror_mode": {
    "name": "ipython",
    "version": 3
   },
   "file_extension": ".py",
   "mimetype": "text/x-python",
   "name": "python",
   "nbconvert_exporter": "python",
   "pygments_lexer": "ipython3",
   "version": "3.11.4"
  }
 },
 "nbformat": 4,
 "nbformat_minor": 5
}
